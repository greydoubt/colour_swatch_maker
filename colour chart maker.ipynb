{
 "cells": [
  {
   "cell_type": "code",
   "execution_count": 2,
   "metadata": {},
   "outputs": [],
   "source": [
    "from PIL import Image, ImageDraw, ImageFont\n",
    "\n",
    "# Define the list of colours\n",
    "colours = ['#22212C', '#454158', '#9580FF', '#22212C', '#454158', '#FFFFFF', '#8AFF80', '#FF5555']\n",
    "\n",
    "# Define the width and height of each rectangle\n",
    "rect_width = 840  # 1080 - 240 (for text)\n",
    "rect_height = 240\n",
    "\n",
    "# Create the image with a white background\n",
    "num_rectangles = len(colours)\n",
    "image_width = 1080\n",
    "image_height = rect_height * num_rectangles\n",
    "image = Image.new('RGB', (image_width, image_height), 'white')\n",
    "\n",
    "# Create a drawing context\n",
    "draw = ImageDraw.Draw(image)\n",
    "\n",
    "# Define the font to use for the text\n",
    "font = ImageFont.truetype('/Library/Fonts/Arial.ttf', 48)\n",
    "\n",
    "# Draw each rectangle and its corresponding text\n",
    "for i, colour in enumerate(colours):\n",
    "    # Calculate the position of the rectangle\n",
    "    x0 = 0\n",
    "    y0 = i * rect_height\n",
    "    x1 = x0 + rect_width\n",
    "    y1 = y0 + rect_height\n",
    "    \n",
    "    # Draw the rectangle\n",
    "    draw.rectangle((x0, y0, x1, y1), fill=colour, outline='black')\n",
    "    \n",
    "    # Draw the text\n",
    "    text = colour\n",
    "    text_width, text_height = draw.textsize(text, font=font)\n",
    "    text_x = x1 + 20  # 20 pixels of padding between rectangle and text\n",
    "    text_y = y0 + (rect_height - text_height) // 2  # Center the text vertically\n",
    "    draw.text((text_x, text_y), text, font=font, fill='black')\n",
    "\n",
    "# Save the image as a PNG file\n",
    "image.save('colours.png')"
   ]
  },
  {
   "cell_type": "code",
   "execution_count": null,
   "metadata": {},
   "outputs": [],
   "source": []
  },
  {
   "cell_type": "code",
   "execution_count": null,
   "metadata": {},
   "outputs": [],
   "source": []
  }
 ],
 "metadata": {
  "kernelspec": {
   "display_name": "Python 3",
   "language": "python",
   "name": "python3"
  },
  "language_info": {
   "codemirror_mode": {
    "name": "ipython",
    "version": 3
   },
   "file_extension": ".py",
   "mimetype": "text/x-python",
   "name": "python",
   "nbconvert_exporter": "python",
   "pygments_lexer": "ipython3",
   "version": "3.8.2"
  }
 },
 "nbformat": 4,
 "nbformat_minor": 4
}
